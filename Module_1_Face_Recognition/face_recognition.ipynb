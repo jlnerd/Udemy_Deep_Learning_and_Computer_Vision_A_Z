{
 "cells": [
  {
   "cell_type": "markdown",
   "metadata": {},
   "source": [
    "# Face Recognition Using OpenCV"
   ]
  },
  {
   "cell_type": "code",
   "execution_count": 1,
   "metadata": {
    "ExecuteTime": {
     "end_time": "2019-03-15T04:59:29.057383Z",
     "start_time": "2019-03-15T04:59:28.422074Z"
    }
   },
   "outputs": [],
   "source": [
    "import pandas as pd\n",
    "import numpy as np\n",
    "import cv2"
   ]
  },
  {
   "cell_type": "code",
   "execution_count": 2,
   "metadata": {
    "ExecuteTime": {
     "end_time": "2019-03-15T04:59:29.182624Z",
     "start_time": "2019-03-15T04:59:29.059238Z"
    }
   },
   "outputs": [
    {
     "name": "stdout",
     "output_type": "stream",
     "text": [
      "face_recognition.ipynb              haarcascade_eye.xml\r\n",
      "face_recognition_commented.py       haarcascade_frontalface_default.xml\r\n"
     ]
    }
   ],
   "source": [
    "!ls"
   ]
  },
  {
   "cell_type": "markdown",
   "metadata": {},
   "source": [
    "## Import the Filters"
   ]
  },
  {
   "cell_type": "code",
   "execution_count": 3,
   "metadata": {
    "ExecuteTime": {
     "end_time": "2019-03-15T04:59:29.225100Z",
     "start_time": "2019-03-15T04:59:29.185250Z"
    }
   },
   "outputs": [],
   "source": [
    "#import the pre-trained haar cascade filters to detect a face\n",
    "face_cascade = cv2.CascadeClassifier('haarcascade_frontalface_default.xml')\n",
    "\n",
    "#import the haar filters to detect an eye\n",
    "eye_cascade = cv2.CascadeClassifier('haarcascade_eye.xml')"
   ]
  },
  {
   "cell_type": "markdown",
   "metadata": {},
   "source": [
    "## Build the detection function"
   ]
  },
  {
   "cell_type": "code",
   "execution_count": 6,
   "metadata": {
    "ExecuteTime": {
     "end_time": "2019-03-15T05:01:09.368441Z",
     "start_time": "2019-03-15T05:01:09.362336Z"
    }
   },
   "outputs": [],
   "source": [
    "def detect(img_RGB, img_gray):\n",
    "    faces = face_cascade.detectMultiScale(img_gray,\n",
    "                                          scaleFactor=1.3,\n",
    "                                          minNeighbors = 5)\n",
    "    for (x,y,w,h) in faces:\n",
    "        cv2.rectangle(img_RGB, \n",
    "                      pt1 = (x,y), \n",
    "                      pt2 = (x+w,y+h), #lower right\n",
    "                      color = (255,0,0), #pick an outline color\n",
    "                      thickness = 2\n",
    "                     )\n",
    "        \n",
    "        #Select the face ROI\n",
    "        roi_gray = img_gray[y:y+h,x:x+w]\n",
    "        roi_rgb = img_RGB[y:y+h,x:x+w]\n",
    "        \n",
    "        #detect the eys within the face\n",
    "        eyes = eye_cascade.detectMultiScale(roi_gray,\n",
    "                                          scaleFactor=1.1,\n",
    "                                          minNeighbors = 3)\n",
    "        #draw the eyes roi\n",
    "        for (ex, ey, ew, eh) in eyes:\n",
    "            cv2.rectangle(roi_rgb, \n",
    "                      pt1 = (ex,ey), \n",
    "                      pt2 = (ex+ew,ey+eh), #lower right\n",
    "                      color = (0,255,0), #pick an outline color\n",
    "                      thickness = 2\n",
    "                     )\n",
    "    return img_RGB"
   ]
  },
  {
   "cell_type": "markdown",
   "metadata": {},
   "source": [
    "## Run the face recognition on webcam"
   ]
  },
  {
   "cell_type": "code",
   "execution_count": 7,
   "metadata": {
    "ExecuteTime": {
     "end_time": "2019-03-15T05:06:13.738375Z",
     "start_time": "2019-03-15T05:01:11.245088Z"
    }
   },
   "outputs": [],
   "source": [
    "#run webcam\n",
    "video_capture = cv2.VideoCapture(0)\n",
    "\n",
    "while True:\n",
    "    _, img_rgb = video_capture.read()\n",
    "    \n",
    "    img_gray = cv2.cvtColor(img_rgb, cv2.COLOR_BGR2GRAY)\n",
    "    \n",
    "    img_rgb = detect(img_rgb, img_gray)\n",
    "    \n",
    "    cv2.imshow('Video', img_rgb)\n",
    "    \n",
    "    if cv2.waitKey(1) & 0xFF == ord('q'):\n",
    "        break\n",
    "\n",
    "#turn off webcam\n",
    "video_capture.release()\n",
    "\n",
    "#destroy windows\n",
    "cv2.destroyAllWindows()\n",
    "    \n"
   ]
  },
  {
   "cell_type": "code",
   "execution_count": null,
   "metadata": {},
   "outputs": [],
   "source": []
  }
 ],
 "metadata": {
  "kernelspec": {
   "display_name": "Python 3",
   "language": "python",
   "name": "python3"
  },
  "language_info": {
   "codemirror_mode": {
    "name": "ipython",
    "version": 3
   },
   "file_extension": ".py",
   "mimetype": "text/x-python",
   "name": "python",
   "nbconvert_exporter": "python",
   "pygments_lexer": "ipython3",
   "version": "3.6.8"
  },
  "toc": {
   "base_numbering": 1,
   "nav_menu": {},
   "number_sections": true,
   "sideBar": true,
   "skip_h1_title": false,
   "title_cell": "Table of Contents",
   "title_sidebar": "Contents",
   "toc_cell": false,
   "toc_position": {},
   "toc_section_display": true,
   "toc_window_display": false
  },
  "varInspector": {
   "cols": {
    "lenName": 16,
    "lenType": 16,
    "lenVar": 40
   },
   "kernels_config": {
    "python": {
     "delete_cmd_postfix": "",
     "delete_cmd_prefix": "del ",
     "library": "var_list.py",
     "varRefreshCmd": "print(var_dic_list())"
    },
    "r": {
     "delete_cmd_postfix": ") ",
     "delete_cmd_prefix": "rm(",
     "library": "var_list.r",
     "varRefreshCmd": "cat(var_dic_list()) "
    }
   },
   "types_to_exclude": [
    "module",
    "function",
    "builtin_function_or_method",
    "instance",
    "_Feature"
   ],
   "window_display": false
  }
 },
 "nbformat": 4,
 "nbformat_minor": 2
}

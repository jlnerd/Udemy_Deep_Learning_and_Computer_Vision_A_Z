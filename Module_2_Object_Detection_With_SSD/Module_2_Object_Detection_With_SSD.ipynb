{
 "cells": [
  {
   "cell_type": "markdown",
   "metadata": {},
   "source": [
    "# Module_2_Object_Detection_With_SSD"
   ]
  },
  {
   "cell_type": "markdown",
   "metadata": {},
   "source": [
    "# Import Libs"
   ]
  },
  {
   "cell_type": "code",
   "execution_count": 55,
   "metadata": {
    "ExecuteTime": {
     "end_time": "2019-04-04T05:15:00.151565Z",
     "start_time": "2019-04-04T05:15:00.147215Z"
    }
   },
   "outputs": [],
   "source": [
    "import numpy as np\n",
    "import torch\n",
    "import cv2\n",
    "import data\n",
    "import ssd\n",
    "import imageio\n",
    "\n",
    "# Importing the libraries\n",
    "import torch\n",
    "from torch.autograd import Variable\n",
    "import cv2\n",
    "from data import BaseTransform, VOC_CLASSES as labelmap\n",
    "from ssd import build_ssd\n",
    "import imageio"
   ]
  },
  {
   "cell_type": "markdown",
   "metadata": {},
   "source": [
    "# Define Fxns"
   ]
  },
  {
   "cell_type": "code",
   "execution_count": 59,
   "metadata": {
    "ExecuteTime": {
     "end_time": "2019-04-04T05:15:14.131846Z",
     "start_time": "2019-04-04T05:15:14.125304Z"
    }
   },
   "outputs": [],
   "source": [
    "def detect(frame, net, transform):\n",
    "    height, width = frame.shape[:2] # height width channels\n",
    "    frame_t = transform(frame)[0]\n",
    "    \n",
    "    # convert to torch tensor in GRB order\n",
    "    x = torch.from_numpy(frame_t).permute(2,0,1) \n",
    "    \n",
    "    # add batch dimension (x.unsqueeze) and define data as variable class for torch\n",
    "    x = torch.autograd.Variable(x.unsqueeze(0))\n",
    "    \n",
    "    # feed x into pre-trained net and get y pred tensor\n",
    "    y = net(x)\n",
    "    \n",
    "    # fetch the detections\n",
    "    detections = y.data #get data from torch tensor y\n",
    "    #detections == [batch, num classes, num occurences, (score, x0, y0, x1, y1)]\n",
    "    \n",
    "    # define upper left & lower right corner of detected object rectangles\n",
    "    scale = torch.Tensor([width,height,width,height]) \n",
    "    \n",
    "    # iterate through classes and check whether to keep prediciton or not\n",
    "    for i in range(detections.size(1)): #i==class\n",
    "        j = 0 #occurance\n",
    "        \n",
    "        #while score of occurance j of class i is larger than 0.6, keep the pred\n",
    "        while detections[0,i,j,0] > 0.1:\n",
    "            pt = np.array(detections[0,i,j,1:] * scale) #fetch x0 x1 y0 y1, scale the pts\n",
    "            cv2.rectangle(frame, (int(pt[0]), int(pt[1])), (int(pt[2]), int(pt[3])), (255, 0, 0), 2)\n",
    "            #add text labels to preds on the image\n",
    "            cv2.putText(frame, labelmap[i-1], (int(pt[0]), int(pt[1])), \n",
    "                        cv2.FONT_HERSHEY_SIMPLEX, 2,\n",
    "                        (255, 255, 255), #text color\n",
    "                        2, cv2.LINE_AA #display as a line\n",
    "                       )\n",
    "            j+=1\n",
    "            \n",
    "    return frame"
   ]
  },
  {
   "cell_type": "markdown",
   "metadata": {},
   "source": [
    "# Define SSD Neural Net (Pretrained)"
   ]
  },
  {
   "cell_type": "code",
   "execution_count": 60,
   "metadata": {
    "ExecuteTime": {
     "end_time": "2019-04-04T05:15:15.229833Z",
     "start_time": "2019-04-04T05:15:14.915628Z"
    }
   },
   "outputs": [
    {
     "name": "stderr",
     "output_type": "stream",
     "text": [
      "/Users/johnleonard/Documents/Certificate_Courses/Udemy_Deep_Learning_and_Computer_Vision_A_Z/Module_2_Object_Detection_With_SSD/ssd.py:33: UserWarning: volatile was removed and now has no effect. Use `with torch.no_grad():` instead.\n",
      "  self.priors = Variable(self.priorbox.forward(), volatile=True)\n",
      "/Users/johnleonard/Documents/Certificate_Courses/Udemy_Deep_Learning_and_Computer_Vision_A_Z/Module_2_Object_Detection_With_SSD/layers/modules/l2norm.py:17: UserWarning: nn.init.constant is now deprecated in favor of nn.init.constant_.\n",
      "  init.constant(self.weight,self.gamma)\n"
     ]
    }
   ],
   "source": [
    "net = ssd.build_ssd('test')\n",
    "\n",
    "#load the weights\n",
    "net.load_state_dict(torch.load('ssd300_mAP_77.43_v2.pth',\n",
    "                               map_location = lambda storage,\n",
    "                               loc: storage))"
   ]
  },
  {
   "cell_type": "markdown",
   "metadata": {},
   "source": [
    "# Transform the image for feed into img"
   ]
  },
  {
   "cell_type": "code",
   "execution_count": 61,
   "metadata": {
    "ExecuteTime": {
     "end_time": "2019-04-04T05:15:16.206613Z",
     "start_time": "2019-04-04T05:15:16.203339Z"
    }
   },
   "outputs": [],
   "source": [
    "transform = data.BaseTransform(net.size,\n",
    "                               (104/256.0, 117/256.0, 123/256.0) #scale the colors\n",
    "                              )"
   ]
  },
  {
   "cell_type": "markdown",
   "metadata": {},
   "source": [
    "# Run Object Detection"
   ]
  },
  {
   "cell_type": "code",
   "execution_count": 62,
   "metadata": {
    "ExecuteTime": {
     "end_time": "2019-04-04T05:16:17.915573Z",
     "start_time": "2019-04-04T05:15:17.219652Z"
    }
   },
   "outputs": [
    {
     "name": "stderr",
     "output_type": "stream",
     "text": [
      "/Users/johnleonard/Documents/Certificate_Courses/Udemy_Deep_Learning_and_Computer_Vision_A_Z/Module_2_Object_Detection_With_SSD/ssd.py:100: UserWarning: Implicit dimension choice for softmax has been deprecated. Change the call to include dim=X as an argument.\n",
      "  self.softmax(conf.view(-1, self.num_classes)),  # conf preds\n",
      "WARNING:root:IMAGEIO FFMPEG_WRITER WARNING: input image is not divisible by macro_block_size=16, resizing from (1080, 1920) to (1088, 1920) to ensure video compatibility with most codecs and players. To prevent resizing, make your input image divisible by the macro_block_size or set the macro_block_size to None (risking incompatibility). You may also see a FFMPEG warning concerning speedloss due to data not being aligned.\n"
     ]
    },
    {
     "name": "stdout",
     "output_type": "stream",
     "text": [
      "0\n",
      "1\n",
      "2\n",
      "3\n",
      "4\n",
      "5\n",
      "6\n",
      "7\n",
      "8\n",
      "9\n",
      "10\n",
      "11\n",
      "12\n",
      "13\n",
      "14\n",
      "15\n",
      "16\n",
      "17\n",
      "18\n",
      "19\n",
      "20\n",
      "21\n",
      "22\n",
      "23\n",
      "24\n",
      "25\n",
      "26\n",
      "27\n",
      "28\n",
      "29\n",
      "30\n",
      "31\n",
      "32\n",
      "33\n",
      "34\n",
      "35\n",
      "36\n",
      "37\n",
      "38\n",
      "39\n",
      "40\n",
      "41\n",
      "42\n",
      "43\n",
      "44\n",
      "45\n",
      "46\n",
      "47\n",
      "48\n",
      "49\n",
      "50\n",
      "51\n",
      "52\n",
      "53\n",
      "54\n",
      "55\n",
      "56\n",
      "57\n",
      "58\n",
      "59\n",
      "60\n",
      "61\n",
      "62\n",
      "63\n",
      "64\n",
      "65\n",
      "66\n",
      "67\n"
     ]
    }
   ],
   "source": [
    "# read the video\n",
    "reader = imageio.get_reader('funny_dog.mp4') #could also use PIL to read the video\n",
    "\n",
    "#get frames per second\n",
    "fps = reader.get_meta_data()['fps']\n",
    "\n",
    "#create output video\n",
    "writer = imageio.get_writer('funny_dog_out.mp4',fps = fps)\n",
    "\n",
    "for i,frame in enumerate(reader): #iterate through the reader video\n",
    "    #apply detection to the frame\n",
    "    frame = detect(frame, net.eval(), transform)\n",
    "    writer.append_data(frame)\n",
    "    print(i)\n",
    "writer.close()"
   ]
  },
  {
   "cell_type": "code",
   "execution_count": 63,
   "metadata": {
    "ExecuteTime": {
     "end_time": "2019-04-04T05:16:22.195364Z",
     "start_time": "2019-04-04T05:16:21.982934Z"
    }
   },
   "outputs": [],
   "source": [
    "!open 'funny_dog_out.mp4'"
   ]
  },
  {
   "cell_type": "code",
   "execution_count": null,
   "metadata": {},
   "outputs": [],
   "source": []
  }
 ],
 "metadata": {
  "kernelspec": {
   "display_name": "Python 3",
   "language": "python",
   "name": "python3"
  },
  "language_info": {
   "codemirror_mode": {
    "name": "ipython",
    "version": 3
   },
   "file_extension": ".py",
   "mimetype": "text/x-python",
   "name": "python",
   "nbconvert_exporter": "python",
   "pygments_lexer": "ipython3",
   "version": "3.6.8"
  },
  "toc": {
   "base_numbering": 1,
   "nav_menu": {},
   "number_sections": true,
   "sideBar": true,
   "skip_h1_title": false,
   "title_cell": "Table of Contents",
   "title_sidebar": "Contents",
   "toc_cell": false,
   "toc_position": {},
   "toc_section_display": true,
   "toc_window_display": false
  },
  "varInspector": {
   "cols": {
    "lenName": 16,
    "lenType": 16,
    "lenVar": 40
   },
   "kernels_config": {
    "python": {
     "delete_cmd_postfix": "",
     "delete_cmd_prefix": "del ",
     "library": "var_list.py",
     "varRefreshCmd": "print(var_dic_list())"
    },
    "r": {
     "delete_cmd_postfix": ") ",
     "delete_cmd_prefix": "rm(",
     "library": "var_list.r",
     "varRefreshCmd": "cat(var_dic_list()) "
    }
   },
   "types_to_exclude": [
    "module",
    "function",
    "builtin_function_or_method",
    "instance",
    "_Feature"
   ],
   "window_display": false
  }
 },
 "nbformat": 4,
 "nbformat_minor": 2
}
